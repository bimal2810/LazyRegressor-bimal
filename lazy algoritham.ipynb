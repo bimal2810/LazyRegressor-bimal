{
 "cells": [
  {
   "cell_type": "code",
   "execution_count": 1,
   "metadata": {},
   "outputs": [],
   "source": [
    "import pandas as pd\n",
    "import numpy as np\n",
    "import matplotlib.pyplot as plt\n",
    "%matplotlib inline"
   ]
  },
  {
   "cell_type": "code",
   "execution_count": 2,
   "metadata": {
    "scrolled": true
   },
   "outputs": [
    {
     "name": "stdout",
     "output_type": "stream",
     "text": [
      "Requirement already satisfied: pyforest in c:\\users\\bbaby\\anaconda3\\lib\\site-packages (1.0.3)\n"
     ]
    }
   ],
   "source": [
    "!pip install pyforest"
   ]
  },
  {
   "cell_type": "code",
   "execution_count": 3,
   "metadata": {},
   "outputs": [
    {
     "name": "stdout",
     "output_type": "stream",
     "text": [
      "Requirement already satisfied: lazypredict in c:\\users\\bbaby\\anaconda3\\lib\\site-packages (0.2.9)\n",
      "Requirement already satisfied: tqdm==4.56.0 in c:\\users\\bbaby\\anaconda3\\lib\\site-packages (from lazypredict) (4.56.0)\n",
      "Requirement already satisfied: scikit-learn==0.23.1 in c:\\users\\bbaby\\anaconda3\\lib\\site-packages (from lazypredict) (0.23.1)\n",
      "Requirement already satisfied: scipy==1.5.4 in c:\\users\\bbaby\\anaconda3\\lib\\site-packages (from lazypredict) (1.5.4)\n",
      "Requirement already satisfied: numpy==1.19.1 in c:\\users\\bbaby\\anaconda3\\lib\\site-packages (from lazypredict) (1.19.1)\n",
      "Requirement already satisfied: xgboost==1.1.1 in c:\\users\\bbaby\\anaconda3\\lib\\site-packages (from lazypredict) (1.1.1)\n",
      "Requirement already satisfied: pytest==5.4.3 in c:\\users\\bbaby\\anaconda3\\lib\\site-packages (from lazypredict) (5.4.3)\n",
      "Requirement already satisfied: joblib==1.0.0 in c:\\users\\bbaby\\anaconda3\\lib\\site-packages (from lazypredict) (1.0.0)\n",
      "Requirement already satisfied: click==7.1.2 in c:\\users\\bbaby\\anaconda3\\lib\\site-packages (from lazypredict) (7.1.2)\n",
      "Requirement already satisfied: six==1.15.0 in c:\\users\\bbaby\\anaconda3\\lib\\site-packages (from lazypredict) (1.15.0)\n",
      "Requirement already satisfied: lightgbm==2.3.1 in c:\\users\\bbaby\\anaconda3\\lib\\site-packages (from lazypredict) (2.3.1)\n",
      "Requirement already satisfied: pandas==1.0.5 in c:\\users\\bbaby\\anaconda3\\lib\\site-packages (from lazypredict) (1.0.5)\n",
      "Requirement already satisfied: PyYAML==5.3.1 in c:\\users\\bbaby\\anaconda3\\lib\\site-packages (from lazypredict) (5.3.1)\n",
      "Requirement already satisfied: threadpoolctl>=2.0.0 in c:\\users\\bbaby\\anaconda3\\lib\\site-packages (from scikit-learn==0.23.1->lazypredict) (2.1.0)\n",
      "Requirement already satisfied: attrs>=17.4.0 in c:\\users\\bbaby\\anaconda3\\lib\\site-packages (from pytest==5.4.3->lazypredict) (20.3.0)\n",
      "Requirement already satisfied: more-itertools>=4.0.0 in c:\\users\\bbaby\\anaconda3\\lib\\site-packages (from pytest==5.4.3->lazypredict) (8.6.0)\n",
      "Requirement already satisfied: colorama; sys_platform == \"win32\" in c:\\users\\bbaby\\anaconda3\\lib\\site-packages (from pytest==5.4.3->lazypredict) (0.4.4)\n",
      "Requirement already satisfied: packaging in c:\\users\\bbaby\\anaconda3\\lib\\site-packages (from pytest==5.4.3->lazypredict) (20.4)\n",
      "Requirement already satisfied: py>=1.5.0 in c:\\users\\bbaby\\anaconda3\\lib\\site-packages (from pytest==5.4.3->lazypredict) (1.9.0)\n",
      "Requirement already satisfied: atomicwrites>=1.0; sys_platform == \"win32\" in c:\\users\\bbaby\\anaconda3\\lib\\site-packages (from pytest==5.4.3->lazypredict) (1.4.0)\n",
      "Requirement already satisfied: wcwidth in c:\\users\\bbaby\\anaconda3\\lib\\site-packages (from pytest==5.4.3->lazypredict) (0.2.5)\n",
      "Requirement already satisfied: pluggy<1.0,>=0.12 in c:\\users\\bbaby\\anaconda3\\lib\\site-packages (from pytest==5.4.3->lazypredict) (0.13.1)\n",
      "Requirement already satisfied: pytz>=2017.2 in c:\\users\\bbaby\\anaconda3\\lib\\site-packages (from pandas==1.0.5->lazypredict) (2020.1)\n",
      "Requirement already satisfied: python-dateutil>=2.6.1 in c:\\users\\bbaby\\anaconda3\\lib\\site-packages (from pandas==1.0.5->lazypredict) (2.8.1)\n",
      "Requirement already satisfied: pyparsing>=2.0.2 in c:\\users\\bbaby\\anaconda3\\lib\\site-packages (from packaging->pytest==5.4.3->lazypredict) (2.4.7)\n"
     ]
    }
   ],
   "source": [
    "!pip install lazypredict"
   ]
  },
  {
   "cell_type": "code",
   "execution_count": 4,
   "metadata": {},
   "outputs": [
    {
     "name": "stderr",
     "output_type": "stream",
     "text": [
      "C:\\Users\\bbaby\\Anaconda3\\lib\\site-packages\\sklearn\\utils\\deprecation.py:143: FutureWarning: The sklearn.utils.testing module is  deprecated in version 0.22 and will be removed in version 0.24. The corresponding classes / functions should instead be imported from sklearn.utils. Anything that cannot be imported from sklearn.utils is now part of the private API.\n",
      "  warnings.warn(message, FutureWarning)\n"
     ]
    }
   ],
   "source": [
    "from lazypredict.Supervised import LazyRegressor\n",
    "from sklearn import datasets\n",
    "from sklearn.utils import shuffle\n",
    "import numpy as np\n"
   ]
  },
  {
   "cell_type": "code",
   "execution_count": 32,
   "metadata": {},
   "outputs": [
    {
     "data": {
      "text/plain": [
       "455"
      ]
     },
     "execution_count": 32,
     "metadata": {},
     "output_type": "execute_result"
    }
   ],
   "source": [
    "\n",
    "boston = datasets.load_boston()\n",
    "X, y = shuffle(boston.data, boston.target, random_state=13)\n",
    "X = X.astype(np.float32)\n",
    "\n",
    "offset = int(X.shape[0] * 0.9)\n",
    "offset"
   ]
  },
  {
   "cell_type": "code",
   "execution_count": 33,
   "metadata": {},
   "outputs": [
    {
     "name": "stdout",
     "output_type": "stream",
     "text": [
      "(455, 13)\n",
      "(455,)\n",
      "(51, 13)\n",
      "(51,)\n"
     ]
    }
   ],
   "source": [
    "\n",
    "X_train, y_train = X[:offset], y[:offset]\n",
    "X_test, y_test = X[offset:], y[offset:]\n",
    "print(X_train.shape)\n",
    "print(y_train.shape)\n",
    "print(X_test.shape)\n",
    "print(y_test.shape)"
   ]
  },
  {
   "cell_type": "code",
   "execution_count": 36,
   "metadata": {},
   "outputs": [],
   "source": [
    "# another way to make train_test is using this:\n",
    "from sklearn.model_selection import train_test_split\n",
    "X_train,X_test,y_train,y_test = train_test_split(X,y,test_size = 0.2, random_state = 2)"
   ]
  },
  {
   "cell_type": "code",
   "execution_count": 37,
   "metadata": {},
   "outputs": [
    {
     "name": "stdout",
     "output_type": "stream",
     "text": [
      "(404, 13)\n",
      "(404,)\n",
      "(102, 13)\n",
      "(102,)\n"
     ]
    }
   ],
   "source": [
    "print(X_train.shape)\n",
    "print(y_train.shape)\n",
    "print(X_test.shape)\n",
    "print(y_test.shape)"
   ]
  },
  {
   "cell_type": "code",
   "execution_count": 22,
   "metadata": {},
   "outputs": [
    {
     "name": "stderr",
     "output_type": "stream",
     "text": [
      "100%|██████████████████████████████████████████████████████████████████████████████████| 42/42 [00:07<00:00,  5.55it/s]"
     ]
    },
    {
     "name": "stdout",
     "output_type": "stream",
     "text": [
      "                               Adjusted R-Squared  R-Squared  RMSE  Time Taken\n",
      "Model                                                                         \n",
      "SVR                                          0.83       0.88  2.62        0.06\n",
      "BaggingRegressor                             0.83       0.88  2.63        0.15\n",
      "NuSVR                                        0.82       0.86  2.76        0.06\n",
      "RandomForestRegressor                        0.81       0.86  2.78        0.99\n",
      "XGBRegressor                                 0.81       0.86  2.79        0.19\n",
      "GradientBoostingRegressor                    0.81       0.86  2.84        0.41\n",
      "ExtraTreesRegressor                          0.79       0.84  2.98        0.56\n",
      "AdaBoostRegressor                            0.78       0.83  3.04        0.27\n",
      "HistGradientBoostingRegressor                0.77       0.83  3.06        0.95\n",
      "PoissonRegressor                             0.77       0.83  3.11        0.04\n",
      "LGBMRegressor                                0.77       0.83  3.11        0.12\n",
      "KNeighborsRegressor                          0.77       0.83  3.12        0.02\n",
      "DecisionTreeRegressor                        0.65       0.74  3.79        0.02\n",
      "MLPRegressor                                 0.65       0.74  3.80        1.78\n",
      "HuberRegressor                               0.64       0.74  3.84        0.04\n",
      "GammaRegressor                               0.64       0.73  3.88        0.03\n",
      "LinearSVR                                    0.62       0.72  3.96        0.03\n",
      "RidgeCV                                      0.62       0.72  3.97        0.02\n",
      "BayesianRidge                                0.62       0.72  3.97        0.05\n",
      "Ridge                                        0.62       0.72  3.97        0.03\n",
      "TransformedTargetRegressor                   0.62       0.72  3.97        0.04\n",
      "LinearRegression                             0.62       0.72  3.97        0.03\n",
      "ElasticNetCV                                 0.62       0.72  3.98        0.22\n",
      "LassoCV                                      0.62       0.72  3.98        0.36\n",
      "LassoLarsIC                                  0.62       0.72  3.98        0.07\n",
      "LassoLarsCV                                  0.62       0.72  3.98        0.13\n",
      "Lars                                         0.61       0.72  3.99        0.05\n",
      "LarsCV                                       0.61       0.71  4.02        0.10\n",
      "SGDRegressor                                 0.60       0.70  4.07        0.03\n",
      "TweedieRegressor                             0.59       0.70  4.12        0.03\n",
      "GeneralizedLinearRegressor                   0.59       0.70  4.12        0.03\n",
      "ElasticNet                                   0.58       0.69  4.16        0.03\n",
      "Lasso                                        0.54       0.66  4.35        0.05\n",
      "RANSACRegressor                              0.53       0.65  4.41        0.20\n",
      "OrthogonalMatchingPursuitCV                  0.45       0.59  4.78        0.05\n",
      "PassiveAggressiveRegressor                   0.37       0.54  5.09        0.03\n",
      "GaussianProcessRegressor                     0.23       0.43  5.65        0.08\n",
      "OrthogonalMatchingPursuit                    0.16       0.38  5.89        0.03\n",
      "ExtraTreeRegressor                           0.08       0.32  6.17        0.02\n",
      "DummyRegressor                              -0.38      -0.02  7.56        0.02\n",
      "LassoLars                                   -0.38      -0.02  7.56        0.05\n",
      "KernelRidge                                -11.50      -8.25 22.74        0.05\n"
     ]
    },
    {
     "name": "stderr",
     "output_type": "stream",
     "text": [
      "\n"
     ]
    }
   ],
   "source": [
    "# Regression happens here\n",
    "\n",
    "reg = LazyRegressor(verbose=0, ignore_warnings=False, custom_metric=None)\n",
    "models, predictions = reg.fit(X_train, X_test, y_train, y_test)\n",
    "\n",
    "print(models)"
   ]
  },
  {
   "cell_type": "code",
   "execution_count": null,
   "metadata": {},
   "outputs": [],
   "source": []
  },
  {
   "cell_type": "code",
   "execution_count": null,
   "metadata": {},
   "outputs": [],
   "source": []
  }
 ],
 "metadata": {
  "kernelspec": {
   "display_name": "Python 3",
   "language": "python",
   "name": "python3"
  },
  "language_info": {
   "codemirror_mode": {
    "name": "ipython",
    "version": 3
   },
   "file_extension": ".py",
   "mimetype": "text/x-python",
   "name": "python",
   "nbconvert_exporter": "python",
   "pygments_lexer": "ipython3",
   "version": "3.8.5"
  }
 },
 "nbformat": 4,
 "nbformat_minor": 4
}
